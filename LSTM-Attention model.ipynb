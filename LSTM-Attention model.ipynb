{
  "cells": [
    {
      "attachments": {},
      "cell_type": "markdown",
      "metadata": {},
      "source": [
        "#### **Importing Libraries**"
      ]
    },
    {
      "cell_type": "code",
      "execution_count": 1,
      "metadata": {
        "id": "gRu9kpkYyztz"
      },
      "outputs": [],
      "source": [
        "import pandas as pd\n",
        "import sklearn.metrics as metrique\n",
        "from pandas import Series\n",
        "from sklearn.preprocessing import StandardScaler, MinMaxScaler\n",
        "from matplotlib import pyplot\n",
        "from sklearn.model_selection import train_test_split\n",
        "import numpy as np\n",
        "from keras.callbacks import EarlyStopping\n",
        "from keras.utils import np_utils\n",
        "from keras.callbacks import ModelCheckpoint\n",
        "from sklearn.metrics import accuracy_score\n",
        "from sklearn.metrics import classification_report, confusion_matrix\n",
        "from keras.models import Sequential\n",
        "from keras.utils import np_utils\n",
        "from keras.layers import LSTM, Dense, Embedding, Dropout,Input, Attention, Layer, Concatenate, Permute, Dot, Multiply, Flatten\n",
        "from keras.layers import RepeatVector, Dense, Activation, Lambda\n",
        "from keras.models import Sequential\n",
        "from keras import backend as K, regularizers, Model, metrics\n",
        "from keras.backend import cast\n",
        "from tensorflow.keras.layers import Reshape"
      ]
    },
    {
      "cell_type": "code",
      "execution_count": 2,
      "metadata": {
        "id": "Mlth1eViyz_p"
      },
      "outputs": [],
      "source": [
        "data = pd.read_csv('creditcard.csv', na_filter=True)\n",
        "col_del = ['Time' ,'V5', 'V6', 'V7', 'V8', 'V9','V13','V15', 'V16',  'V18', 'V19', 'V20','V21', 'V22', 'V23', 'V24', 'V25', 'V26', 'V27', 'V28', 'Amount']"
      ]
    },
    {
      "cell_type": "code",
      "execution_count": 3,
      "metadata": {},
      "outputs": [
        {
          "data": {
            "text/plain": [
              "(284807, 31)"
            ]
          },
          "execution_count": 3,
          "metadata": {},
          "output_type": "execute_result"
        }
      ],
      "source": [
        "data.shape"
      ]
    },
    {
      "cell_type": "code",
      "execution_count": 4,
      "metadata": {
        "colab": {
          "base_uri": "https://localhost:8080/"
        },
        "id": "0D1roi0fy9hN",
        "outputId": "1c7dad73-e697-47a5-9102-3fa04511a11d"
      },
      "outputs": [
        {
          "data": {
            "text/plain": [
              "(284807, 10)"
            ]
          },
          "execution_count": 4,
          "metadata": {},
          "output_type": "execute_result"
        }
      ],
      "source": [
        "tr_data = data.drop(col_del,axis =1)\n",
        "tr_data.shape"
      ]
    },
    {
      "cell_type": "code",
      "execution_count": 5,
      "metadata": {
        "id": "SFjcDF3s2QId"
      },
      "outputs": [
        {
          "data": {
            "text/plain": [
              "(284807, 9)"
            ]
          },
          "execution_count": 5,
          "metadata": {},
          "output_type": "execute_result"
        }
      ],
      "source": [
        "X = tr_data.drop(['Class'], axis = 'columns')\n",
        "Label_Data = tr_data['Class']\n",
        "X.shape"
      ]
    },
    {
      "cell_type": "code",
      "execution_count": 7,
      "metadata": {
        "colab": {
          "base_uri": "https://localhost:8080/"
        },
        "id": "9lP_i3psy9y6",
        "outputId": "c80a98de-437f-4e47-fd4b-7369aa2d0941"
      },
      "outputs": [
        {
          "name": "stdout",
          "output_type": "stream",
          "text": [
            "Counter({0: 284315, 1: 492})\n"
          ]
        }
      ],
      "source": [
        "# Generate and plot imbalanced classification dataset\n",
        "from collections import Counter\n",
        "from matplotlib import pyplot\n",
        "from numpy import where\n",
        "# summarize class distribution\n",
        "counter = Counter(tr_data['Class'])\n",
        "print(counter)\n",
        "# scatter plot of examples by class label\n",
        "for label, _ in counter.items():\n",
        "\trow_ix = where(tr_data['Class'] == label)[0]"
      ]
    },
    {
      "attachments": {},
      "cell_type": "markdown",
      "metadata": {},
      "source": [
        "#### **Oversampling the Data**"
      ]
    },
    {
      "cell_type": "code",
      "execution_count": 8,
      "metadata": {
        "id": "o4GOSe4tzcTv"
      },
      "outputs": [
        {
          "name": "stdout",
          "output_type": "stream",
          "text": [
            "Counter({0: 284315, 1: 284315})\n"
          ]
        }
      ],
      "source": [
        "# transform the dataset\n",
        "from imblearn.over_sampling import SMOTE\n",
        "oversample = SMOTE()\n",
        "X_r, y = oversample.fit_resample(X, tr_data['Class'])\n",
        "# summarize the new class distribution\n",
        "counter = Counter(y)\n",
        "print(counter)\n",
        "# scatter plot of examples by class label\n",
        "for label, _ in counter.items():\n",
        "\trow_ix = where(y == label)[0]"
      ]
    },
    {
      "cell_type": "code",
      "execution_count": 9,
      "metadata": {
        "id": "rz6JhCFr0Iin"
      },
      "outputs": [],
      "source": [
        "from sklearn.preprocessing import StandardScaler\n",
        "## Standardizing the data\n",
        "X_r2 = StandardScaler().fit_transform(X_r)"
      ]
    },
    {
      "cell_type": "code",
      "execution_count": 10,
      "metadata": {
        "id": "t7l5EpLY0IqL"
      },
      "outputs": [],
      "source": [
        "X_train,X_test,y_train,y_test = train_test_split(X_r2, y, test_size=0.2)"
      ]
    },
    {
      "cell_type": "code",
      "execution_count": 11,
      "metadata": {
        "colab": {
          "base_uri": "https://localhost:8080/"
        },
        "id": "a4uohF3BPMIU",
        "outputId": "b1d24e82-da51-42ca-f9ed-0d021c2538ea"
      },
      "outputs": [
        {
          "data": {
            "text/plain": [
              "(454904, 9)"
            ]
          },
          "execution_count": 11,
          "metadata": {},
          "output_type": "execute_result"
        }
      ],
      "source": [
        "X_train.shape"
      ]
    },
    {
      "cell_type": "code",
      "execution_count": 12,
      "metadata": {
        "colab": {
          "base_uri": "https://localhost:8080/"
        },
        "id": "4OaLUwRhPPhW",
        "outputId": "170cccab-ded4-4110-e701-3d103902a590"
      },
      "outputs": [
        {
          "data": {
            "text/plain": [
              "(113726, 9)"
            ]
          },
          "execution_count": 12,
          "metadata": {},
          "output_type": "execute_result"
        }
      ],
      "source": [
        "X_test.shape"
      ]
    },
    {
      "attachments": {},
      "cell_type": "markdown",
      "metadata": {},
      "source": [
        "#### **Design  the Network**"
      ]
    },
    {
      "cell_type": "code",
      "execution_count": 14,
      "metadata": {
        "id": "eN6iBsXh0UJj"
      },
      "outputs": [],
      "source": [
        "# design network\n",
        "np.random.seed(7)\n",
        "\n",
        "# X_train and X_test are the input data\n",
        "train_LSTM_X = X_train\n",
        "val_LSTM_X = X_test\n",
        "\n",
        "## Reshape input to be 3D [samples, timesteps, features] (format requis par LSTM)\n",
        "train_LSTM_X = train_LSTM_X.reshape((train_LSTM_X.shape[0], 1, train_LSTM_X.shape[1]))\n",
        "val_LSTM_X = val_LSTM_X.reshape((val_LSTM_X.shape[0], 1, val_LSTM_X.shape[1]))\n",
        "\n",
        "## Recuperation des labels\n",
        "train_LSTM_y = y_train  #\n",
        "val_LSTM_y = y_test"
      ]
    },
    {
      "cell_type": "code",
      "execution_count": 16,
      "metadata": {
        "id": "XOlGVbif0U-i"
      },
      "outputs": [],
      "source": [
        "inputs = Input((1,9))   # 9 features\n",
        "x1 = LSTM(50, dropout=0.3, recurrent_dropout=0.2)(inputs)   # 50 LSTM units\n",
        "x2 = Reshape((1, 50))(x1)  # add Reshape layer to convert to 3D tensor\n",
        "x3 = LSTM(50, dropout=0.3, recurrent_dropout=0.2)(x2)   # 50 LSTM units\n",
        "outputs = Dense(1, activation='sigmoid')(x3)    # 1 output neuron\n",
        "model=Model(inputs,outputs)"
      ]
    },
    {
      "cell_type": "code",
      "execution_count": 17,
      "metadata": {
        "id": "rw1IxnEn0i7d"
      },
      "outputs": [],
      "source": [
        "model.compile(loss='binary_crossentropy', optimizer='adam', metrics=['accuracy'])"
      ]
    },
    {
      "cell_type": "code",
      "execution_count": 18,
      "metadata": {
        "id": "_jVAHW330VTL"
      },
      "outputs": [
        {
          "name": "stdout",
          "output_type": "stream",
          "text": [
            "Epoch 1/100\n",
            "23/23 [==============================] - 26s 657ms/step - loss: 0.6687 - accuracy: 0.7918 - val_loss: 0.6253 - val_accuracy: 0.8872\n",
            "Epoch 2/100\n",
            "23/23 [==============================] - 12s 515ms/step - loss: 0.5698 - accuracy: 0.8828 - val_loss: 0.4859 - val_accuracy: 0.8898\n",
            "Epoch 3/100\n",
            "23/23 [==============================] - 11s 482ms/step - loss: 0.4289 - accuracy: 0.8848 - val_loss: 0.3555 - val_accuracy: 0.8985\n",
            "Epoch 4/100\n",
            "23/23 [==============================] - 13s 565ms/step - loss: 0.3251 - accuracy: 0.8965 - val_loss: 0.2798 - val_accuracy: 0.9068\n",
            "Epoch 5/100\n",
            "23/23 [==============================] - 20s 881ms/step - loss: 0.2727 - accuracy: 0.9075 - val_loss: 0.2429 - val_accuracy: 0.9104\n",
            "Epoch 6/100\n",
            "23/23 [==============================] - 15s 661ms/step - loss: 0.2460 - accuracy: 0.9135 - val_loss: 0.2190 - val_accuracy: 0.9163\n",
            "Epoch 7/100\n",
            "23/23 [==============================] - 14s 613ms/step - loss: 0.2310 - accuracy: 0.9169 - val_loss: 0.2042 - val_accuracy: 0.9258\n",
            "Epoch 8/100\n",
            " 8/23 [=========>....................] - ETA: 13s - loss: 0.2251 - accuracy: 0.9182"
          ]
        },
        {
          "ename": "KeyboardInterrupt",
          "evalue": "",
          "output_type": "error",
          "traceback": [
            "\u001b[1;31m---------------------------------------------------------------------------\u001b[0m",
            "\u001b[1;31mKeyboardInterrupt\u001b[0m                         Traceback (most recent call last)",
            "Cell \u001b[1;32mIn [18], line 1\u001b[0m\n\u001b[1;32m----> 1\u001b[0m history\u001b[39m=\u001b[39mmodel\u001b[39m.\u001b[39;49mfit(train_LSTM_X, train_LSTM_y,epochs\u001b[39m=\u001b[39;49m\u001b[39m100\u001b[39;49m,batch_size\u001b[39m=\u001b[39;49m\u001b[39m20000\u001b[39;49m, validation_data\u001b[39m=\u001b[39;49m(val_LSTM_X, val_LSTM_y))\n",
            "File \u001b[1;32m~\\AppData\\Local\\Packages\\PythonSoftwareFoundation.Python.3.10_qbz5n2kfra8p0\\LocalCache\\local-packages\\Python310\\site-packages\\keras\\utils\\traceback_utils.py:65\u001b[0m, in \u001b[0;36mfilter_traceback.<locals>.error_handler\u001b[1;34m(*args, **kwargs)\u001b[0m\n\u001b[0;32m     63\u001b[0m filtered_tb \u001b[39m=\u001b[39m \u001b[39mNone\u001b[39;00m\n\u001b[0;32m     64\u001b[0m \u001b[39mtry\u001b[39;00m:\n\u001b[1;32m---> 65\u001b[0m     \u001b[39mreturn\u001b[39;00m fn(\u001b[39m*\u001b[39margs, \u001b[39m*\u001b[39m\u001b[39m*\u001b[39mkwargs)\n\u001b[0;32m     66\u001b[0m \u001b[39mexcept\u001b[39;00m \u001b[39mException\u001b[39;00m \u001b[39mas\u001b[39;00m e:\n\u001b[0;32m     67\u001b[0m     filtered_tb \u001b[39m=\u001b[39m _process_traceback_frames(e\u001b[39m.\u001b[39m__traceback__)\n",
            "File \u001b[1;32m~\\AppData\\Local\\Packages\\PythonSoftwareFoundation.Python.3.10_qbz5n2kfra8p0\\LocalCache\\local-packages\\Python310\\site-packages\\keras\\engine\\training.py:1650\u001b[0m, in \u001b[0;36mModel.fit\u001b[1;34m(self, x, y, batch_size, epochs, verbose, callbacks, validation_split, validation_data, shuffle, class_weight, sample_weight, initial_epoch, steps_per_epoch, validation_steps, validation_batch_size, validation_freq, max_queue_size, workers, use_multiprocessing)\u001b[0m\n\u001b[0;32m   1642\u001b[0m \u001b[39mwith\u001b[39;00m tf\u001b[39m.\u001b[39mprofiler\u001b[39m.\u001b[39mexperimental\u001b[39m.\u001b[39mTrace(\n\u001b[0;32m   1643\u001b[0m     \u001b[39m\"\u001b[39m\u001b[39mtrain\u001b[39m\u001b[39m\"\u001b[39m,\n\u001b[0;32m   1644\u001b[0m     epoch_num\u001b[39m=\u001b[39mepoch,\n\u001b[1;32m   (...)\u001b[0m\n\u001b[0;32m   1647\u001b[0m     _r\u001b[39m=\u001b[39m\u001b[39m1\u001b[39m,\n\u001b[0;32m   1648\u001b[0m ):\n\u001b[0;32m   1649\u001b[0m     callbacks\u001b[39m.\u001b[39mon_train_batch_begin(step)\n\u001b[1;32m-> 1650\u001b[0m     tmp_logs \u001b[39m=\u001b[39m \u001b[39mself\u001b[39;49m\u001b[39m.\u001b[39;49mtrain_function(iterator)\n\u001b[0;32m   1651\u001b[0m     \u001b[39mif\u001b[39;00m data_handler\u001b[39m.\u001b[39mshould_sync:\n\u001b[0;32m   1652\u001b[0m         context\u001b[39m.\u001b[39masync_wait()\n",
            "File \u001b[1;32m~\\AppData\\Local\\Packages\\PythonSoftwareFoundation.Python.3.10_qbz5n2kfra8p0\\LocalCache\\local-packages\\Python310\\site-packages\\tensorflow\\python\\util\\traceback_utils.py:150\u001b[0m, in \u001b[0;36mfilter_traceback.<locals>.error_handler\u001b[1;34m(*args, **kwargs)\u001b[0m\n\u001b[0;32m    148\u001b[0m filtered_tb \u001b[39m=\u001b[39m \u001b[39mNone\u001b[39;00m\n\u001b[0;32m    149\u001b[0m \u001b[39mtry\u001b[39;00m:\n\u001b[1;32m--> 150\u001b[0m   \u001b[39mreturn\u001b[39;00m fn(\u001b[39m*\u001b[39margs, \u001b[39m*\u001b[39m\u001b[39m*\u001b[39mkwargs)\n\u001b[0;32m    151\u001b[0m \u001b[39mexcept\u001b[39;00m \u001b[39mException\u001b[39;00m \u001b[39mas\u001b[39;00m e:\n\u001b[0;32m    152\u001b[0m   filtered_tb \u001b[39m=\u001b[39m _process_traceback_frames(e\u001b[39m.\u001b[39m__traceback__)\n",
            "File \u001b[1;32m~\\AppData\\Local\\Packages\\PythonSoftwareFoundation.Python.3.10_qbz5n2kfra8p0\\LocalCache\\local-packages\\Python310\\site-packages\\tensorflow\\python\\eager\\polymorphic_function\\polymorphic_function.py:880\u001b[0m, in \u001b[0;36mFunction.__call__\u001b[1;34m(self, *args, **kwds)\u001b[0m\n\u001b[0;32m    877\u001b[0m compiler \u001b[39m=\u001b[39m \u001b[39m\"\u001b[39m\u001b[39mxla\u001b[39m\u001b[39m\"\u001b[39m \u001b[39mif\u001b[39;00m \u001b[39mself\u001b[39m\u001b[39m.\u001b[39m_jit_compile \u001b[39melse\u001b[39;00m \u001b[39m\"\u001b[39m\u001b[39mnonXla\u001b[39m\u001b[39m\"\u001b[39m\n\u001b[0;32m    879\u001b[0m \u001b[39mwith\u001b[39;00m OptionalXlaContext(\u001b[39mself\u001b[39m\u001b[39m.\u001b[39m_jit_compile):\n\u001b[1;32m--> 880\u001b[0m   result \u001b[39m=\u001b[39m \u001b[39mself\u001b[39m\u001b[39m.\u001b[39m_call(\u001b[39m*\u001b[39margs, \u001b[39m*\u001b[39m\u001b[39m*\u001b[39mkwds)\n\u001b[0;32m    882\u001b[0m new_tracing_count \u001b[39m=\u001b[39m \u001b[39mself\u001b[39m\u001b[39m.\u001b[39mexperimental_get_tracing_count()\n\u001b[0;32m    883\u001b[0m without_tracing \u001b[39m=\u001b[39m (tracing_count \u001b[39m==\u001b[39m new_tracing_count)\n",
            "File \u001b[1;32m~\\AppData\\Local\\Packages\\PythonSoftwareFoundation.Python.3.10_qbz5n2kfra8p0\\LocalCache\\local-packages\\Python310\\site-packages\\tensorflow\\python\\eager\\polymorphic_function\\polymorphic_function.py:912\u001b[0m, in \u001b[0;36mFunction._call\u001b[1;34m(self, *args, **kwds)\u001b[0m\n\u001b[0;32m    909\u001b[0m   \u001b[39mself\u001b[39m\u001b[39m.\u001b[39m_lock\u001b[39m.\u001b[39mrelease()\n\u001b[0;32m    910\u001b[0m   \u001b[39m# In this case we have created variables on the first call, so we run the\u001b[39;00m\n\u001b[0;32m    911\u001b[0m   \u001b[39m# defunned version which is guaranteed to never create variables.\u001b[39;00m\n\u001b[1;32m--> 912\u001b[0m   \u001b[39mreturn\u001b[39;00m \u001b[39mself\u001b[39m\u001b[39m.\u001b[39m_no_variable_creation_fn(\u001b[39m*\u001b[39margs, \u001b[39m*\u001b[39m\u001b[39m*\u001b[39mkwds)  \u001b[39m# pylint: disable=not-callable\u001b[39;00m\n\u001b[0;32m    913\u001b[0m \u001b[39melif\u001b[39;00m \u001b[39mself\u001b[39m\u001b[39m.\u001b[39m_variable_creation_fn \u001b[39mis\u001b[39;00m \u001b[39mnot\u001b[39;00m \u001b[39mNone\u001b[39;00m:\n\u001b[0;32m    914\u001b[0m   \u001b[39m# Release the lock early so that multiple threads can perform the call\u001b[39;00m\n\u001b[0;32m    915\u001b[0m   \u001b[39m# in parallel.\u001b[39;00m\n\u001b[0;32m    916\u001b[0m   \u001b[39mself\u001b[39m\u001b[39m.\u001b[39m_lock\u001b[39m.\u001b[39mrelease()\n",
            "File \u001b[1;32m~\\AppData\\Local\\Packages\\PythonSoftwareFoundation.Python.3.10_qbz5n2kfra8p0\\LocalCache\\local-packages\\Python310\\site-packages\\tensorflow\\python\\eager\\polymorphic_function\\tracing_compiler.py:134\u001b[0m, in \u001b[0;36mTracingCompiler.__call__\u001b[1;34m(self, *args, **kwargs)\u001b[0m\n\u001b[0;32m    131\u001b[0m \u001b[39mwith\u001b[39;00m \u001b[39mself\u001b[39m\u001b[39m.\u001b[39m_lock:\n\u001b[0;32m    132\u001b[0m   (concrete_function,\n\u001b[0;32m    133\u001b[0m    filtered_flat_args) \u001b[39m=\u001b[39m \u001b[39mself\u001b[39m\u001b[39m.\u001b[39m_maybe_define_function(args, kwargs)\n\u001b[1;32m--> 134\u001b[0m \u001b[39mreturn\u001b[39;00m concrete_function\u001b[39m.\u001b[39;49m_call_flat(\n\u001b[0;32m    135\u001b[0m     filtered_flat_args, captured_inputs\u001b[39m=\u001b[39;49mconcrete_function\u001b[39m.\u001b[39;49mcaptured_inputs)\n",
            "File \u001b[1;32m~\\AppData\\Local\\Packages\\PythonSoftwareFoundation.Python.3.10_qbz5n2kfra8p0\\LocalCache\\local-packages\\Python310\\site-packages\\tensorflow\\python\\eager\\polymorphic_function\\monomorphic_function.py:1745\u001b[0m, in \u001b[0;36mConcreteFunction._call_flat\u001b[1;34m(self, args, captured_inputs, cancellation_manager)\u001b[0m\n\u001b[0;32m   1741\u001b[0m possible_gradient_type \u001b[39m=\u001b[39m gradients_util\u001b[39m.\u001b[39mPossibleTapeGradientTypes(args)\n\u001b[0;32m   1742\u001b[0m \u001b[39mif\u001b[39;00m (possible_gradient_type \u001b[39m==\u001b[39m gradients_util\u001b[39m.\u001b[39mPOSSIBLE_GRADIENT_TYPES_NONE\n\u001b[0;32m   1743\u001b[0m     \u001b[39mand\u001b[39;00m executing_eagerly):\n\u001b[0;32m   1744\u001b[0m   \u001b[39m# No tape is watching; skip to running the function.\u001b[39;00m\n\u001b[1;32m-> 1745\u001b[0m   \u001b[39mreturn\u001b[39;00m \u001b[39mself\u001b[39m\u001b[39m.\u001b[39m_build_call_outputs(\u001b[39mself\u001b[39;49m\u001b[39m.\u001b[39;49m_inference_function\u001b[39m.\u001b[39;49mcall(\n\u001b[0;32m   1746\u001b[0m       ctx, args, cancellation_manager\u001b[39m=\u001b[39;49mcancellation_manager))\n\u001b[0;32m   1747\u001b[0m forward_backward \u001b[39m=\u001b[39m \u001b[39mself\u001b[39m\u001b[39m.\u001b[39m_select_forward_and_backward_functions(\n\u001b[0;32m   1748\u001b[0m     args,\n\u001b[0;32m   1749\u001b[0m     possible_gradient_type,\n\u001b[0;32m   1750\u001b[0m     executing_eagerly)\n\u001b[0;32m   1751\u001b[0m forward_function, args_with_tangents \u001b[39m=\u001b[39m forward_backward\u001b[39m.\u001b[39mforward()\n",
            "File \u001b[1;32m~\\AppData\\Local\\Packages\\PythonSoftwareFoundation.Python.3.10_qbz5n2kfra8p0\\LocalCache\\local-packages\\Python310\\site-packages\\tensorflow\\python\\eager\\polymorphic_function\\monomorphic_function.py:378\u001b[0m, in \u001b[0;36m_EagerDefinedFunction.call\u001b[1;34m(self, ctx, args, cancellation_manager)\u001b[0m\n\u001b[0;32m    376\u001b[0m \u001b[39mwith\u001b[39;00m _InterpolateFunctionError(\u001b[39mself\u001b[39m):\n\u001b[0;32m    377\u001b[0m   \u001b[39mif\u001b[39;00m cancellation_manager \u001b[39mis\u001b[39;00m \u001b[39mNone\u001b[39;00m:\n\u001b[1;32m--> 378\u001b[0m     outputs \u001b[39m=\u001b[39m execute\u001b[39m.\u001b[39;49mexecute(\n\u001b[0;32m    379\u001b[0m         \u001b[39mstr\u001b[39;49m(\u001b[39mself\u001b[39;49m\u001b[39m.\u001b[39;49msignature\u001b[39m.\u001b[39;49mname),\n\u001b[0;32m    380\u001b[0m         num_outputs\u001b[39m=\u001b[39;49m\u001b[39mself\u001b[39;49m\u001b[39m.\u001b[39;49m_num_outputs,\n\u001b[0;32m    381\u001b[0m         inputs\u001b[39m=\u001b[39;49margs,\n\u001b[0;32m    382\u001b[0m         attrs\u001b[39m=\u001b[39;49mattrs,\n\u001b[0;32m    383\u001b[0m         ctx\u001b[39m=\u001b[39;49mctx)\n\u001b[0;32m    384\u001b[0m   \u001b[39melse\u001b[39;00m:\n\u001b[0;32m    385\u001b[0m     outputs \u001b[39m=\u001b[39m execute\u001b[39m.\u001b[39mexecute_with_cancellation(\n\u001b[0;32m    386\u001b[0m         \u001b[39mstr\u001b[39m(\u001b[39mself\u001b[39m\u001b[39m.\u001b[39msignature\u001b[39m.\u001b[39mname),\n\u001b[0;32m    387\u001b[0m         num_outputs\u001b[39m=\u001b[39m\u001b[39mself\u001b[39m\u001b[39m.\u001b[39m_num_outputs,\n\u001b[1;32m   (...)\u001b[0m\n\u001b[0;32m    390\u001b[0m         ctx\u001b[39m=\u001b[39mctx,\n\u001b[0;32m    391\u001b[0m         cancellation_manager\u001b[39m=\u001b[39mcancellation_manager)\n",
            "File \u001b[1;32m~\\AppData\\Local\\Packages\\PythonSoftwareFoundation.Python.3.10_qbz5n2kfra8p0\\LocalCache\\local-packages\\Python310\\site-packages\\tensorflow\\python\\eager\\execute.py:52\u001b[0m, in \u001b[0;36mquick_execute\u001b[1;34m(op_name, num_outputs, inputs, attrs, ctx, name)\u001b[0m\n\u001b[0;32m     50\u001b[0m \u001b[39mtry\u001b[39;00m:\n\u001b[0;32m     51\u001b[0m   ctx\u001b[39m.\u001b[39mensure_initialized()\n\u001b[1;32m---> 52\u001b[0m   tensors \u001b[39m=\u001b[39m pywrap_tfe\u001b[39m.\u001b[39;49mTFE_Py_Execute(ctx\u001b[39m.\u001b[39;49m_handle, device_name, op_name,\n\u001b[0;32m     53\u001b[0m                                       inputs, attrs, num_outputs)\n\u001b[0;32m     54\u001b[0m \u001b[39mexcept\u001b[39;00m core\u001b[39m.\u001b[39m_NotOkStatusException \u001b[39mas\u001b[39;00m e:\n\u001b[0;32m     55\u001b[0m   \u001b[39mif\u001b[39;00m name \u001b[39mis\u001b[39;00m \u001b[39mnot\u001b[39;00m \u001b[39mNone\u001b[39;00m:\n",
            "\u001b[1;31mKeyboardInterrupt\u001b[0m: "
          ]
        }
      ],
      "source": [
        "history=model.fit(train_LSTM_X, train_LSTM_y,epochs=100,batch_size=20000, validation_data=(val_LSTM_X, val_LSTM_y))"
      ]
    },
    {
      "cell_type": "code",
      "execution_count": 117,
      "metadata": {
        "colab": {
          "base_uri": "https://localhost:8080/"
        },
        "id": "gLCxQgUtIV6A",
        "outputId": "ac8b52c7-0d1c-476b-f5d2-396947e122b7"
      },
      "outputs": [
        {
          "name": "stdout",
          "output_type": "stream",
          "text": [
            "Saved model to disk\n"
          ]
        }
      ],
      "source": [
        "# save model and architecture to single file\n",
        "model.save('Save_Model.h5')\n",
        "print(\"Saved model to disk\")"
      ]
    },
    {
      "cell_type": "code",
      "execution_count": null,
      "metadata": {
        "id": "YZ58n-qPJEub"
      },
      "outputs": [],
      "source": [
        "# load and evaluate a saved model\n",
        "from numpy import loadtxt\n",
        "from keras.models import load_model\n",
        " \n",
        "# load model\n",
        "model = load_model('Save_Model.h5')\n",
        "# summarize model.\n",
        "model.summary()"
      ]
    },
    {
      "cell_type": "code",
      "execution_count": 119,
      "metadata": {
        "colab": {
          "base_uri": "https://localhost:8080/"
        },
        "id": "U6xqSOxSJHd8",
        "outputId": "b0ec8c83-ea5e-469d-bcf5-c222329befe3"
      },
      "outputs": [
        {
          "name": "stdout",
          "output_type": "stream",
          "text": [
            "Train: 0.938, Test: 0.936\n"
          ]
        }
      ],
      "source": [
        "# evaluate the model\n",
        "_, train_acc = model.evaluate(train_LSTM_X, train_LSTM_y, verbose=0)\n",
        "_, test_acc = model.evaluate(val_LSTM_X, val_LSTM_y, verbose=0)\n",
        "print('Train: %.3f, Test: %.3f' % (train_acc, test_acc))"
      ]
    },
    {
      "cell_type": "code",
      "execution_count": 120,
      "metadata": {
        "colab": {
          "base_uri": "https://localhost:8080/",
          "height": 281
        },
        "id": "hYW2snaetW2W",
        "outputId": "29228cf1-7ac4-4936-d3f1-162b72c11932"
      },
      "outputs": [
        {
          "data": {
            "image/png": "[encoded data removed]",
            "text/plain": [
              "<Figure size 640x480 with 2 Axes>"
            ]
          },
          "metadata": {},
          "output_type": "display_data"
        }
      ],
      "source": [
        "# plot loss during training\n",
        "pyplot.subplot(211)\n",
        "pyplot.title('Loss')\n",
        "pyplot.plot(history.history['loss'], label='train')\n",
        "pyplot.plot(history.history['val_loss'], label='test')\n",
        "pyplot.legend()\n",
        "# plot accuracy during training\n",
        "pyplot.subplot(212)\n",
        "pyplot.title('Accuracy')\n",
        "pyplot.plot(history.history['accuracy'], label='train')\n",
        "pyplot.plot(history.history['val_accuracy'], label='test')\n",
        "pyplot.legend()\n",
        "pyplot.show()"
      ]
    },
    {
      "cell_type": "code",
      "execution_count": 121,
      "metadata": {
        "id": "lUAD5FIS3Z1I"
      },
      "outputs": [],
      "source": [
        "# predict probabilities for test set\n",
        "yhat_probs = model.predict(val_LSTM_X, verbose=0)\n",
        "# reduce to 1d array\n",
        "yhat_probs = yhat_probs[:, 0]\n",
        "# yhat_probs.shape\n",
        "# yhat_probs"
      ]
    },
    {
      "cell_type": "code",
      "execution_count": 122,
      "metadata": {
        "colab": {
          "base_uri": "https://localhost:8080/"
        },
        "id": "eiN2cjwX4Dzp",
        "outputId": "86ee0069-2931-41b4-bbb3-90a6a3940a21"
      },
      "outputs": [
        {
          "name": "stdout",
          "output_type": "stream",
          "text": [
            "Accuracy: 0.936461\n",
            "Precision: 0.989924\n",
            "Recall: 0.881364\n"
          ]
        }
      ],
      "source": [
        "# demonstration of calculating metrics for a neural network model using sklearn\n",
        "from sklearn.metrics import accuracy_score\n",
        "from sklearn.metrics import precision_score\n",
        "from sklearn.metrics import recall_score\n",
        "from sklearn.metrics import confusion_matrix\n",
        "\n",
        "# accuracy: (tp + tn) / (p + n)\n",
        "# convert val_LSTM_y to numpy array\n",
        "val_LSTM_y = np.array(val_LSTM_y)\n",
        "yhat_binary = (yhat_probs > 0.5).astype(int) # convert to binary values\n",
        "# print(yhat_binary.shape)\n",
        "accuracy = accuracy_score(val_LSTM_y, yhat_binary)\n",
        "# print(\"Accuracy:\", accuracy)\n",
        "# accuracy = accuracy_score(val_LSTM_y, yhat_probs)\n",
        "print('Accuracy: %f' % accuracy)\n",
        "# precision tp / (tp + fp)\n",
        "precision = precision_score(val_LSTM_y, yhat_binary)\n",
        "print('Precision: %f' % precision)\n",
        "# recall: tp / (tp + fn)\n",
        "recall = recall_score(val_LSTM_y, yhat_binary)\n",
        "print('Recall: %f' % recall)\n"
      ]
    },
    {
      "cell_type": "code",
      "execution_count": 123,
      "metadata": {
        "id": "02D_-hIJ4JiB"
      },
      "outputs": [],
      "source": [
        "%matplotlib inline\n",
        "from sklearn.metrics import confusion_matrix\n",
        "import itertools\n",
        "import matplotlib.pyplot as plt"
      ]
    },
    {
      "cell_type": "code",
      "execution_count": 124,
      "metadata": {
        "id": "D5jRpnhBCKKM"
      },
      "outputs": [],
      "source": [
        "cm = confusion_matrix(y_true=val_LSTM_y, y_pred=yhat_binary)"
      ]
    },
    {
      "cell_type": "code",
      "execution_count": 125,
      "metadata": {
        "id": "G6wvKPIQCKYs"
      },
      "outputs": [],
      "source": [
        "def plot_confusion_matrix(cm, classes,\n",
        "                        normalize=False,\n",
        "                        title='Confusion matrix',\n",
        "                        cmap=plt.cm.Blues):\n",
        "    \"\"\"\n",
        "    This function prints and plots the confusion matrix.\n",
        "    Normalization can be applied by setting `normalize=True`.\n",
        "    \"\"\"\n",
        "    plt.imshow(cm, interpolation='nearest', cmap=cmap)\n",
        "    plt.title(title)\n",
        "    plt.colorbar()\n",
        "    tick_marks = np.arange(len(classes))\n",
        "    plt.xticks(tick_marks, classes, rotation=45)\n",
        "    plt.yticks(tick_marks, classes)\n",
        "\n",
        "    if normalize:\n",
        "        cm = cm.astype('float') / cm.sum(axis=1)[:, np.newaxis]\n",
        "        print(\"Normalized confusion matrix\")\n",
        "    else:\n",
        "        print('Confusion matrix, without normalization')\n",
        "\n",
        "    print(cm)\n",
        "\n",
        "    thresh = cm.max() / 2.\n",
        "    for i, j in itertools.product(range(cm.shape[0]), range(cm.shape[1])):\n",
        "        plt.text(j, i, cm[i, j],\n",
        "            horizontalalignment=\"center\",\n",
        "            color=\"white\" if cm[i, j] > thresh else \"black\")\n",
        "\n",
        "    plt.tight_layout()\n",
        "    plt.ylabel('True label')\n",
        "    plt.xlabel('Predicted label')\n",
        "labels = ['Normal','Fraud']"
      ]
    },
    {
      "cell_type": "code",
      "execution_count": 126,
      "metadata": {
        "colab": {
          "base_uri": "https://localhost:8080/",
          "height": 362
        },
        "id": "K3CQINI1VyI8",
        "outputId": "4d02c5dc-54cc-4414-d8da-fe62508573c9"
      },
      "outputs": [
        {
          "name": "stdout",
          "output_type": "stream",
          "text": [
            "Confusion matrix, without normalization\n",
            "[[56591   508]\n",
            " [ 6718 49909]]\n"
          ]
        },
        {
          "data": {
            "image/png": "[encoded data removed]",
            "text/plain": [
              "<Figure size 640x480 with 2 Axes>"
            ]
          },
          "metadata": {},
          "output_type": "display_data"
        }
      ],
      "source": [
        "plot_confusion_matrix(cm=cm, classes=labels, title='LSTM')"
      ]
    },
    {
      "cell_type": "code",
      "execution_count": 127,
      "metadata": {
        "id": "9eyxl7gxDjKk"
      },
      "outputs": [],
      "source": [
        "class attention(Layer):\n",
        "    def __init__(self,**kwargs):\n",
        "        super(attention,self).__init__(**kwargs)\n",
        "\n",
        "    def build(self,input_shape):\n",
        "        self.W=self.add_weight(name=\"att_weight\",shape=(input_shape[-1],1),initializer=\"normal\")\n",
        "        self.b=self.add_weight(name=\"att_bias\",shape=(input_shape[1],1),initializer=\"zeros\")        \n",
        "        super(attention, self).build(input_shape)\n",
        "\n",
        "    def call(self,x):\n",
        "        et=K.squeeze(K.tanh(K.dot(x,self.W)+self.b),axis=-1)\n",
        "        at=K.softmax(et)\n",
        "        at=K.expand_dims(at,axis=-1)\n",
        "        output=x*at\n",
        "        return K.sum(output,axis=1)\n",
        "\n",
        "    def compute_output_shape(self,input_shape):\n",
        "        return (input_shape[0],input_shape[-1])\n",
        "\n",
        "    def get_config(self):\n",
        "        return super(attention,self).get_config()"
      ]
    },
    {
      "cell_type": "code",
      "execution_count": 128,
      "metadata": {
        "id": "UdJq4u3EC_Sy"
      },
      "outputs": [],
      "source": [
        "inputs1=Input((1,9))\n",
        "att_in=LSTM(50,return_sequences=True,dropout=0.3,recurrent_dropout=0.2)(inputs1)\n",
        "att_in_1=LSTM(50,return_sequences=True,dropout=0.3,recurrent_dropout=0.2)(att_in)\n",
        "att_out=attention()(att_in_1)\n",
        "outputs1=Dense(1,activation='sigmoid',trainable=True)(att_out)\n",
        "model1=Model(inputs1,outputs1)"
      ]
    },
    {
      "cell_type": "code",
      "execution_count": 129,
      "metadata": {
        "id": "vl454wu1C_sr"
      },
      "outputs": [],
      "source": [
        "model1.compile(loss='binary_crossentropy', optimizer='adam', metrics=['accuracy'])"
      ]
    },
    {
      "cell_type": "code",
      "execution_count": 131,
      "metadata": {
        "id": "wvr6t9ivDryi"
      },
      "outputs": [
        {
          "name": "stdout",
          "output_type": "stream",
          "text": [
            "Epoch 1/100\n",
            "16/16 [==============================] - 16s 958ms/step - loss: 0.6530 - accuracy: 0.8720 - val_loss: 0.6164 - val_accuracy: 0.8810\n",
            "Epoch 2/100\n",
            "16/16 [==============================] - 14s 843ms/step - loss: 0.5833 - accuracy: 0.8788 - val_loss: 0.5224 - val_accuracy: 0.8808\n",
            "Epoch 3/100\n",
            "16/16 [==============================] - 13s 818ms/step - loss: 0.4848 - accuracy: 0.8783 - val_loss: 0.4215 - val_accuracy: 0.8827\n",
            "Epoch 4/100\n",
            "16/16 [==============================] - 11s 696ms/step - loss: 0.3932 - accuracy: 0.8842 - val_loss: 0.3420 - val_accuracy: 0.8937\n",
            "Epoch 5/100\n",
            "16/16 [==============================] - 11s 667ms/step - loss: 0.3271 - accuracy: 0.8944 - val_loss: 0.2896 - val_accuracy: 0.9042\n",
            "Epoch 6/100\n",
            "16/16 [==============================] - 11s 680ms/step - loss: 0.2862 - accuracy: 0.9030 - val_loss: 0.2586 - val_accuracy: 0.9077\n",
            "Epoch 7/100\n",
            "16/16 [==============================] - 11s 678ms/step - loss: 0.2613 - accuracy: 0.9088 - val_loss: 0.2364 - val_accuracy: 0.9100\n",
            "Epoch 8/100\n",
            "16/16 [==============================] - 11s 689ms/step - loss: 0.2447 - accuracy: 0.9127 - val_loss: 0.2196 - val_accuracy: 0.9126\n",
            "Epoch 9/100\n",
            "16/16 [==============================] - 11s 705ms/step - loss: 0.2336 - accuracy: 0.9151 - val_loss: 0.2075 - val_accuracy: 0.9223\n",
            "Epoch 10/100\n",
            "16/16 [==============================] - 11s 698ms/step - loss: 0.2258 - accuracy: 0.9172 - val_loss: 0.1992 - val_accuracy: 0.9259\n",
            "Epoch 11/100\n",
            "16/16 [==============================] - 11s 697ms/step - loss: 0.2205 - accuracy: 0.9185 - val_loss: 0.1933 - val_accuracy: 0.9271\n",
            "Epoch 12/100\n",
            "16/16 [==============================] - 11s 687ms/step - loss: 0.2176 - accuracy: 0.9191 - val_loss: 0.1901 - val_accuracy: 0.9276\n",
            "Epoch 13/100\n",
            "16/16 [==============================] - 11s 686ms/step - loss: 0.2142 - accuracy: 0.9199 - val_loss: 0.1878 - val_accuracy: 0.9284\n",
            "Epoch 14/100\n",
            "16/16 [==============================] - 11s 671ms/step - loss: 0.2119 - accuracy: 0.9204 - val_loss: 0.1862 - val_accuracy: 0.9291\n",
            "Epoch 15/100\n",
            "16/16 [==============================] - 11s 706ms/step - loss: 0.2106 - accuracy: 0.9207 - val_loss: 0.1852 - val_accuracy: 0.9293\n",
            "Epoch 16/100\n",
            "16/16 [==============================] - 11s 671ms/step - loss: 0.2084 - accuracy: 0.9213 - val_loss: 0.1842 - val_accuracy: 0.9298\n",
            "Epoch 17/100\n",
            "16/16 [==============================] - 11s 675ms/step - loss: 0.2070 - accuracy: 0.9222 - val_loss: 0.1834 - val_accuracy: 0.9301\n",
            "Epoch 18/100\n",
            "16/16 [==============================] - 11s 676ms/step - loss: 0.2058 - accuracy: 0.9228 - val_loss: 0.1826 - val_accuracy: 0.9304\n",
            "Epoch 19/100\n",
            "16/16 [==============================] - 11s 690ms/step - loss: 0.2037 - accuracy: 0.9235 - val_loss: 0.1813 - val_accuracy: 0.9311\n",
            "Epoch 20/100\n",
            "16/16 [==============================] - 11s 678ms/step - loss: 0.2024 - accuracy: 0.9240 - val_loss: 0.1804 - val_accuracy: 0.9318\n",
            "Epoch 21/100\n",
            "16/16 [==============================] - 11s 703ms/step - loss: 0.2005 - accuracy: 0.9247 - val_loss: 0.1797 - val_accuracy: 0.9324\n",
            "Epoch 22/100\n",
            "16/16 [==============================] - 12s 727ms/step - loss: 0.1996 - accuracy: 0.9251 - val_loss: 0.1781 - val_accuracy: 0.9329\n",
            "Epoch 23/100\n",
            "16/16 [==============================] - 11s 670ms/step - loss: 0.1983 - accuracy: 0.9256 - val_loss: 0.1777 - val_accuracy: 0.9330\n",
            "Epoch 24/100\n",
            "16/16 [==============================] - 11s 672ms/step - loss: 0.1970 - accuracy: 0.9263 - val_loss: 0.1766 - val_accuracy: 0.9331\n",
            "Epoch 25/100\n",
            "16/16 [==============================] - 11s 688ms/step - loss: 0.1961 - accuracy: 0.9267 - val_loss: 0.1759 - val_accuracy: 0.9331\n",
            "Epoch 26/100\n",
            "16/16 [==============================] - 11s 689ms/step - loss: 0.1943 - accuracy: 0.9273 - val_loss: 0.1755 - val_accuracy: 0.9333\n",
            "Epoch 27/100\n",
            "16/16 [==============================] - 11s 674ms/step - loss: 0.1938 - accuracy: 0.9277 - val_loss: 0.1745 - val_accuracy: 0.9336\n",
            "Epoch 28/100\n",
            "16/16 [==============================] - 11s 678ms/step - loss: 0.1925 - accuracy: 0.9282 - val_loss: 0.1741 - val_accuracy: 0.9338\n",
            "Epoch 29/100\n",
            "16/16 [==============================] - 11s 672ms/step - loss: 0.1920 - accuracy: 0.9285 - val_loss: 0.1735 - val_accuracy: 0.9340\n",
            "Epoch 30/100\n",
            "16/16 [==============================] - 11s 687ms/step - loss: 0.1914 - accuracy: 0.9286 - val_loss: 0.1729 - val_accuracy: 0.9342\n",
            "Epoch 31/100\n",
            "16/16 [==============================] - 11s 683ms/step - loss: 0.1909 - accuracy: 0.9289 - val_loss: 0.1722 - val_accuracy: 0.9343\n",
            "Epoch 32/100\n",
            "16/16 [==============================] - 11s 680ms/step - loss: 0.1902 - accuracy: 0.9291 - val_loss: 0.1726 - val_accuracy: 0.9343\n",
            "Epoch 33/100\n",
            "16/16 [==============================] - 11s 678ms/step - loss: 0.1892 - accuracy: 0.9294 - val_loss: 0.1722 - val_accuracy: 0.9344\n",
            "Epoch 34/100\n",
            "16/16 [==============================] - 12s 764ms/step - loss: 0.1893 - accuracy: 0.9296 - val_loss: 0.1715 - val_accuracy: 0.9344\n",
            "Epoch 35/100\n",
            "16/16 [==============================] - 12s 754ms/step - loss: 0.1886 - accuracy: 0.9296 - val_loss: 0.1713 - val_accuracy: 0.9344\n",
            "Epoch 36/100\n",
            "16/16 [==============================] - 12s 771ms/step - loss: 0.1881 - accuracy: 0.9299 - val_loss: 0.1712 - val_accuracy: 0.9344\n",
            "Epoch 37/100\n",
            "16/16 [==============================] - 12s 777ms/step - loss: 0.1880 - accuracy: 0.9297 - val_loss: 0.1710 - val_accuracy: 0.9345\n",
            "Epoch 38/100\n",
            "16/16 [==============================] - 12s 773ms/step - loss: 0.1874 - accuracy: 0.9299 - val_loss: 0.1707 - val_accuracy: 0.9345\n",
            "Epoch 39/100\n",
            "16/16 [==============================] - 12s 743ms/step - loss: 0.1871 - accuracy: 0.9303 - val_loss: 0.1705 - val_accuracy: 0.9345\n",
            "Epoch 40/100\n",
            "16/16 [==============================] - 12s 731ms/step - loss: 0.1876 - accuracy: 0.9302 - val_loss: 0.1707 - val_accuracy: 0.9346\n",
            "Epoch 41/100\n",
            "16/16 [==============================] - 12s 724ms/step - loss: 0.1866 - accuracy: 0.9303 - val_loss: 0.1698 - val_accuracy: 0.9346\n",
            "Epoch 42/100\n",
            "16/16 [==============================] - 12s 749ms/step - loss: 0.1862 - accuracy: 0.9305 - val_loss: 0.1700 - val_accuracy: 0.9346\n",
            "Epoch 43/100\n",
            "16/16 [==============================] - 12s 725ms/step - loss: 0.1856 - accuracy: 0.9308 - val_loss: 0.1697 - val_accuracy: 0.9346\n",
            "Epoch 44/100\n",
            "16/16 [==============================] - 11s 712ms/step - loss: 0.1858 - accuracy: 0.9306 - val_loss: 0.1695 - val_accuracy: 0.9346\n",
            "Epoch 45/100\n",
            "16/16 [==============================] - 12s 725ms/step - loss: 0.1852 - accuracy: 0.9307 - val_loss: 0.1694 - val_accuracy: 0.9346\n",
            "Epoch 46/100\n",
            "16/16 [==============================] - 11s 711ms/step - loss: 0.1853 - accuracy: 0.9308 - val_loss: 0.1692 - val_accuracy: 0.9346\n",
            "Epoch 47/100\n",
            "16/16 [==============================] - 12s 739ms/step - loss: 0.1855 - accuracy: 0.9308 - val_loss: 0.1688 - val_accuracy: 0.9347\n",
            "Epoch 48/100\n",
            "16/16 [==============================] - 12s 722ms/step - loss: 0.1849 - accuracy: 0.9311 - val_loss: 0.1683 - val_accuracy: 0.9348\n",
            "Epoch 49/100\n",
            "16/16 [==============================] - 11s 705ms/step - loss: 0.1846 - accuracy: 0.9309 - val_loss: 0.1690 - val_accuracy: 0.9347\n",
            "Epoch 50/100\n",
            "16/16 [==============================] - 12s 723ms/step - loss: 0.1847 - accuracy: 0.9309 - val_loss: 0.1686 - val_accuracy: 0.9347\n",
            "Epoch 51/100\n",
            "16/16 [==============================] - 12s 721ms/step - loss: 0.1843 - accuracy: 0.9312 - val_loss: 0.1685 - val_accuracy: 0.9347\n",
            "Epoch 52/100\n",
            "16/16 [==============================] - 12s 722ms/step - loss: 0.1836 - accuracy: 0.9310 - val_loss: 0.1680 - val_accuracy: 0.9348\n",
            "Epoch 53/100\n",
            "16/16 [==============================] - 11s 709ms/step - loss: 0.1838 - accuracy: 0.9313 - val_loss: 0.1680 - val_accuracy: 0.9348\n",
            "Epoch 54/100\n",
            "16/16 [==============================] - 11s 709ms/step - loss: 0.1835 - accuracy: 0.9312 - val_loss: 0.1685 - val_accuracy: 0.9347\n",
            "Epoch 55/100\n",
            "16/16 [==============================] - 11s 699ms/step - loss: 0.1840 - accuracy: 0.9313 - val_loss: 0.1677 - val_accuracy: 0.9348\n",
            "Epoch 56/100\n",
            "16/16 [==============================] - 11s 687ms/step - loss: 0.1833 - accuracy: 0.9313 - val_loss: 0.1678 - val_accuracy: 0.9349\n",
            "Epoch 57/100\n",
            "16/16 [==============================] - 11s 708ms/step - loss: 0.1830 - accuracy: 0.9314 - val_loss: 0.1679 - val_accuracy: 0.9348\n",
            "Epoch 58/100\n",
            "16/16 [==============================] - 11s 676ms/step - loss: 0.1831 - accuracy: 0.9314 - val_loss: 0.1668 - val_accuracy: 0.9349\n",
            "Epoch 59/100\n",
            "16/16 [==============================] - 11s 680ms/step - loss: 0.1825 - accuracy: 0.9317 - val_loss: 0.1674 - val_accuracy: 0.9348\n",
            "Epoch 60/100\n",
            "16/16 [==============================] - 11s 677ms/step - loss: 0.1826 - accuracy: 0.9316 - val_loss: 0.1671 - val_accuracy: 0.9348\n",
            "Epoch 61/100\n",
            "16/16 [==============================] - 11s 680ms/step - loss: 0.1828 - accuracy: 0.9315 - val_loss: 0.1670 - val_accuracy: 0.9349\n",
            "Epoch 62/100\n",
            "16/16 [==============================] - 11s 672ms/step - loss: 0.1825 - accuracy: 0.9316 - val_loss: 0.1670 - val_accuracy: 0.9349\n",
            "Epoch 63/100\n",
            "16/16 [==============================] - 11s 705ms/step - loss: 0.1821 - accuracy: 0.9314 - val_loss: 0.1669 - val_accuracy: 0.9349\n",
            "Epoch 64/100\n",
            "16/16 [==============================] - 11s 700ms/step - loss: 0.1817 - accuracy: 0.9318 - val_loss: 0.1660 - val_accuracy: 0.9349\n",
            "Epoch 65/100\n",
            "16/16 [==============================] - 11s 679ms/step - loss: 0.1819 - accuracy: 0.9317 - val_loss: 0.1673 - val_accuracy: 0.9348\n",
            "Epoch 66/100\n",
            "16/16 [==============================] - 11s 688ms/step - loss: 0.1816 - accuracy: 0.9318 - val_loss: 0.1661 - val_accuracy: 0.9349\n",
            "Epoch 67/100\n",
            "16/16 [==============================] - 11s 685ms/step - loss: 0.1815 - accuracy: 0.9317 - val_loss: 0.1657 - val_accuracy: 0.9349\n",
            "Epoch 68/100\n",
            "16/16 [==============================] - 11s 691ms/step - loss: 0.1815 - accuracy: 0.9314 - val_loss: 0.1668 - val_accuracy: 0.9348\n",
            "Epoch 69/100\n",
            "16/16 [==============================] - 11s 691ms/step - loss: 0.1813 - accuracy: 0.9317 - val_loss: 0.1660 - val_accuracy: 0.9349\n",
            "Epoch 70/100\n",
            "16/16 [==============================] - 11s 690ms/step - loss: 0.1806 - accuracy: 0.9316 - val_loss: 0.1656 - val_accuracy: 0.9349\n",
            "Epoch 71/100\n",
            "16/16 [==============================] - 11s 689ms/step - loss: 0.1805 - accuracy: 0.9317 - val_loss: 0.1655 - val_accuracy: 0.9349\n",
            "Epoch 72/100\n",
            "16/16 [==============================] - 11s 698ms/step - loss: 0.1805 - accuracy: 0.9320 - val_loss: 0.1653 - val_accuracy: 0.9349\n",
            "Epoch 73/100\n",
            "16/16 [==============================] - 11s 682ms/step - loss: 0.1806 - accuracy: 0.9319 - val_loss: 0.1654 - val_accuracy: 0.9349\n",
            "Epoch 74/100\n",
            "16/16 [==============================] - 12s 733ms/step - loss: 0.1802 - accuracy: 0.9320 - val_loss: 0.1649 - val_accuracy: 0.9350\n",
            "Epoch 75/100\n",
            "16/16 [==============================] - 11s 699ms/step - loss: 0.1796 - accuracy: 0.9319 - val_loss: 0.1648 - val_accuracy: 0.9350\n",
            "Epoch 76/100\n",
            "16/16 [==============================] - 11s 694ms/step - loss: 0.1801 - accuracy: 0.9321 - val_loss: 0.1650 - val_accuracy: 0.9349\n",
            "Epoch 77/100\n",
            "16/16 [==============================] - 11s 698ms/step - loss: 0.1796 - accuracy: 0.9322 - val_loss: 0.1640 - val_accuracy: 0.9351\n",
            "Epoch 78/100\n",
            "16/16 [==============================] - 11s 698ms/step - loss: 0.1800 - accuracy: 0.9318 - val_loss: 0.1645 - val_accuracy: 0.9350\n",
            "Epoch 79/100\n",
            "16/16 [==============================] - 11s 710ms/step - loss: 0.1795 - accuracy: 0.9321 - val_loss: 0.1642 - val_accuracy: 0.9351\n",
            "Epoch 80/100\n",
            "16/16 [==============================] - 11s 701ms/step - loss: 0.1795 - accuracy: 0.9320 - val_loss: 0.1643 - val_accuracy: 0.9350\n",
            "Epoch 81/100\n",
            "16/16 [==============================] - 11s 697ms/step - loss: 0.1796 - accuracy: 0.9319 - val_loss: 0.1637 - val_accuracy: 0.9351\n",
            "Epoch 82/100\n",
            "16/16 [==============================] - 11s 691ms/step - loss: 0.1795 - accuracy: 0.9318 - val_loss: 0.1637 - val_accuracy: 0.9352\n",
            "Epoch 83/100\n",
            "16/16 [==============================] - 11s 710ms/step - loss: 0.1789 - accuracy: 0.9323 - val_loss: 0.1636 - val_accuracy: 0.9352\n",
            "Epoch 84/100\n",
            "16/16 [==============================] - 11s 713ms/step - loss: 0.1784 - accuracy: 0.9321 - val_loss: 0.1636 - val_accuracy: 0.9352\n",
            "Epoch 85/100\n",
            "16/16 [==============================] - 11s 703ms/step - loss: 0.1787 - accuracy: 0.9321 - val_loss: 0.1629 - val_accuracy: 0.9352\n",
            "Epoch 86/100\n",
            "16/16 [==============================] - 11s 708ms/step - loss: 0.1788 - accuracy: 0.9321 - val_loss: 0.1631 - val_accuracy: 0.9352\n",
            "Epoch 87/100\n",
            "16/16 [==============================] - 11s 701ms/step - loss: 0.1783 - accuracy: 0.9322 - val_loss: 0.1628 - val_accuracy: 0.9352\n",
            "Epoch 88/100\n",
            "16/16 [==============================] - 11s 705ms/step - loss: 0.1786 - accuracy: 0.9318 - val_loss: 0.1626 - val_accuracy: 0.9351\n",
            "Epoch 89/100\n",
            "16/16 [==============================] - 11s 707ms/step - loss: 0.1782 - accuracy: 0.9322 - val_loss: 0.1626 - val_accuracy: 0.9352\n",
            "Epoch 90/100\n",
            "16/16 [==============================] - 11s 709ms/step - loss: 0.1782 - accuracy: 0.9319 - val_loss: 0.1625 - val_accuracy: 0.9352\n",
            "Epoch 91/100\n",
            "16/16 [==============================] - 12s 726ms/step - loss: 0.1777 - accuracy: 0.9323 - val_loss: 0.1627 - val_accuracy: 0.9352\n",
            "Epoch 92/100\n",
            "16/16 [==============================] - 11s 711ms/step - loss: 0.1778 - accuracy: 0.9322 - val_loss: 0.1618 - val_accuracy: 0.9353\n",
            "Epoch 93/100\n",
            "16/16 [==============================] - 11s 691ms/step - loss: 0.1768 - accuracy: 0.9322 - val_loss: 0.1625 - val_accuracy: 0.9352\n",
            "Epoch 94/100\n",
            "16/16 [==============================] - 11s 695ms/step - loss: 0.1770 - accuracy: 0.9322 - val_loss: 0.1614 - val_accuracy: 0.9353\n",
            "Epoch 95/100\n",
            "16/16 [==============================] - 12s 724ms/step - loss: 0.1773 - accuracy: 0.9323 - val_loss: 0.1614 - val_accuracy: 0.9353\n",
            "Epoch 96/100\n",
            "16/16 [==============================] - 11s 694ms/step - loss: 0.1773 - accuracy: 0.9321 - val_loss: 0.1613 - val_accuracy: 0.9353\n",
            "Epoch 97/100\n",
            "16/16 [==============================] - 11s 712ms/step - loss: 0.1768 - accuracy: 0.9323 - val_loss: 0.1609 - val_accuracy: 0.9353\n",
            "Epoch 98/100\n",
            "16/16 [==============================] - 11s 709ms/step - loss: 0.1770 - accuracy: 0.9320 - val_loss: 0.1608 - val_accuracy: 0.9353\n",
            "Epoch 99/100\n",
            "16/16 [==============================] - 11s 697ms/step - loss: 0.1764 - accuracy: 0.9326 - val_loss: 0.1610 - val_accuracy: 0.9352\n",
            "Epoch 100/100\n",
            "16/16 [==============================] - 11s 715ms/step - loss: 0.1765 - accuracy: 0.9326 - val_loss: 0.1605 - val_accuracy: 0.9354\n"
          ]
        }
      ],
      "source": [
        "history1=model1.fit(train_LSTM_X, train_LSTM_y,epochs=100,batch_size=30000, validation_data=(val_LSTM_X, val_LSTM_y))"
      ]
    },
    {
      "cell_type": "code",
      "execution_count": 132,
      "metadata": {
        "colab": {
          "base_uri": "https://localhost:8080/"
        },
        "id": "FL8VzJkJTN_d",
        "outputId": "7be31587-cf07-4c86-dbf6-8e736e428760"
      },
      "outputs": [
        {
          "name": "stdout",
          "output_type": "stream",
          "text": [
            "Saved model to disk\n"
          ]
        }
      ],
      "source": [
        "# save Attention model and architecture to single file\n",
        "model1.save('Save_Model_Attention.h5')\n",
        "print(\"Saved model to disk\")"
      ]
    },
    {
      "cell_type": "code",
      "execution_count": null,
      "metadata": {
        "id": "cjmUbnlYUGnb"
      },
      "outputs": [],
      "source": [
        "# load and evaluate a saved model\n",
        "from numpy import loadtxt\n",
        "from keras.models import load_model\n",
        "# load model \n",
        "model1 = load_model('Save_Model_Attention.h5', custom_objects={'attention': attention})\n",
        "# summarize model.\n",
        "model1.summary()"
      ]
    },
    {
      "cell_type": "code",
      "execution_count": 134,
      "metadata": {
        "colab": {
          "base_uri": "https://localhost:8080/"
        },
        "id": "pynzSyCyUgYk",
        "outputId": "ee3ed285-9f23-412f-d418-81dec20e40aa"
      },
      "outputs": [
        {
          "name": "stdout",
          "output_type": "stream",
          "text": [
            "Train: 0.937, Test: 0.935\n"
          ]
        }
      ],
      "source": [
        "# evaluate the model\n",
        "_, train_acc = model1.evaluate(train_LSTM_X, train_LSTM_y, verbose=0)\n",
        "_, test_acc = model1.evaluate(val_LSTM_X, val_LSTM_y, verbose=0)\n",
        "print('Train: %.3f, Test: %.3f' % (train_acc, test_acc))"
      ]
    },
    {
      "cell_type": "code",
      "execution_count": 135,
      "metadata": {
        "id": "FowJ3_QvDsD6"
      },
      "outputs": [],
      "source": [
        "# predict probabilities for test set\n",
        "yhat_probs1 = model1.predict(val_LSTM_X, verbose=0)\n",
        "# reduce to 1d array\n",
        "yhat_probs1 = yhat_probs1[:, 0]"
      ]
    },
    {
      "cell_type": "code",
      "execution_count": 136,
      "metadata": {
        "colab": {
          "base_uri": "https://localhost:8080/"
        },
        "id": "91TI5B2sESst",
        "outputId": "0fe68a3e-4217-42d1-9619-472263c2d804"
      },
      "outputs": [
        {
          "name": "stdout",
          "output_type": "stream",
          "text": [
            "Accuracy: 0.935424\n",
            "Precision: 0.988444\n",
            "Recall: 0.880605\n"
          ]
        }
      ],
      "source": [
        "# demonstration of calculating metrics for a neural network model using sklearn\n",
        "from sklearn.metrics import accuracy_score\n",
        "from sklearn.metrics import precision_score\n",
        "from sklearn.metrics import recall_score\n",
        "from sklearn.metrics import confusion_matrix\n",
        "\n",
        "# accuracy: (tp + tn) / (p + n)\n",
        "yhat_binary1 = (yhat_probs1 > 0.5).astype(int) # convert to binary values\n",
        "accuracy = accuracy_score(val_LSTM_y,yhat_binary1)\n",
        "print('Accuracy: %f' % accuracy)\n",
        "# precision tp / (tp + fp)\n",
        "precision = precision_score(val_LSTM_y, yhat_binary1)\n",
        "print('Precision: %f' % precision)\n",
        "# recall: tp / (tp + fn)\n",
        "recall = recall_score(val_LSTM_y, yhat_binary1)\n",
        "print('Recall: %f' % recall)\n"
      ]
    },
    {
      "cell_type": "code",
      "execution_count": 137,
      "metadata": {
        "id": "GaFfUn6xEpMn"
      },
      "outputs": [],
      "source": [
        "cm1 = confusion_matrix(y_true=val_LSTM_y, y_pred=yhat_binary1)"
      ]
    },
    {
      "cell_type": "code",
      "execution_count": 138,
      "metadata": {
        "colab": {
          "base_uri": "https://localhost:8080/",
          "height": 362
        },
        "id": "ZFXwEl17ES7A",
        "outputId": "92daea33-c2f5-4354-ee72-eb9e4759e176"
      },
      "outputs": [
        {
          "name": "stdout",
          "output_type": "stream",
          "text": [
            "Confusion matrix, without normalization\n",
            "[[56516   583]\n",
            " [ 6761 49866]]\n"
          ]
        },
        {
          "data": {
            "image/png": "[encoded data removed]",
            "text/plain": [
              "<Figure size 640x480 with 2 Axes>"
            ]
          },
          "metadata": {},
          "output_type": "display_data"
        }
      ],
      "source": [
        "plot_confusion_matrix(cm=cm1, classes=labels, title='LSTM-Attention', normalize=False)"
      ]
    }
  ],
  "metadata": {
    "colab": {
      "collapsed_sections": [],
      "name": "LSTM_Models.ipynb",
      "provenance": []
    },
    "kernelspec": {
      "display_name": "Python 3",
      "language": "python",
      "name": "python3"
    },
    "language_info": {
      "codemirror_mode": {
        "name": "ipython",
        "version": 3
      },
      "file_extension": ".py",
      "mimetype": "text/x-python",
      "name": "python",
      "nbconvert_exporter": "python",
      "pygments_lexer": "ipython3",
      "version": "3.10.10"
    },
    "vscode": {
      "interpreter": {
        "hash": "3b7e9cb8e453d6cda0fe8c8dd13f891a1f09162f0e7c66ffeae7751a7aecf00d"
      }
    }
  },
  "nbformat": 4,
  "nbformat_minor": 0
}
